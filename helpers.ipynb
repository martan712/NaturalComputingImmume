{
 "cells": [
  {
   "cell_type": "code",
   "execution_count": 1,
   "metadata": {},
   "outputs": [],
   "source": [
    "def get_shortest_from_file(filepath):\n",
    "    with open(filepath) as f:\n",
    "        return min([len(x) for x in f.read().splitlines()])"
   ]
  },
  {
   "cell_type": "code",
   "execution_count": 13,
   "metadata": {},
   "outputs": [
    {
     "name": "stdout",
     "output_type": "stream",
     "text": [
      "7\n",
      "7\n",
      "7\n",
      "7\n",
      "7\n",
      "7\n",
      "7\n",
      "7\n"
     ]
    }
   ],
   "source": [
    "import os\n",
    "for x in range(3):\n",
    "    print(get_shortest_from_file(f\"syscalls/snd-cert/snd-cert.{x+1}.test\"))\n",
    "    print(get_shortest_from_file(f\"syscalls/snd-unm/snd-unm.{x+1}.test\"))\n",
    "    \n",
    "print(get_shortest_from_file(f\"syscalls/snd-unm/snd-unm.train\"))\n",
    "print(get_shortest_from_file(f\"syscalls/snd-cert/snd-cert.train\"))"
   ]
  },
  {
   "cell_type": "code",
   "execution_count": null,
   "metadata": {},
   "outputs": [],
   "source": []
  }
 ],
 "metadata": {
  "kernelspec": {
   "display_name": "deeplearning",
   "language": "python",
   "name": "python3"
  },
  "language_info": {
   "codemirror_mode": {
    "name": "ipython",
    "version": 3
   },
   "file_extension": ".py",
   "mimetype": "text/x-python",
   "name": "python",
   "nbconvert_exporter": "python",
   "pygments_lexer": "ipython3",
   "version": "3.12.7"
  }
 },
 "nbformat": 4,
 "nbformat_minor": 2
}
